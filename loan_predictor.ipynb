{
  "nbformat": 4,
  "nbformat_minor": 0,
  "metadata": {
    "colab": {
      "private_outputs": true,
      "provenance": [],
      "authorship_tag": "ABX9TyMdbB6GFkmD4cbnCkYJ81Hf",
      "include_colab_link": true
    },
    "kernelspec": {
      "name": "python3",
      "display_name": "Python 3"
    },
    "language_info": {
      "name": "python"
    }
  },
  "cells": [
    {
      "cell_type": "markdown",
      "metadata": {
        "id": "view-in-github",
        "colab_type": "text"
      },
      "source": [
        "<a href=\"https://colab.research.google.com/github/Pinakbakshi/Loan-Prediction/blob/main/loan_predictor.ipynb\" target=\"_parent\"><img src=\"https://colab.research.google.com/assets/colab-badge.svg\" alt=\"Open In Colab\"/></a>"
      ]
    },
    {
      "cell_type": "code",
      "source": [
        "import pandas as pd\n",
        "import numpy as np\n",
        "\n",
        "# Generate random data for 1000 entries\n",
        "np.random.seed(42)\n",
        "age = np.random.randint(20, 60, size=10000)\n",
        "income = np.random.randint(30000, 150000, size=10000)\n",
        "credit_score = np.random.randint(300, 850, size=10000)\n",
        "loan_amount = np.random.randint(5000, 50000, size=10000)\n",
        "existing_loans = np.random.randint(0, 2, size=10000)  # 0 or 1 indicating no or existing loans\n",
        "collateral = np.random.randint(0, 2, size=10000)  # 0 or 1 indicating no or collateral available\n",
        "\n",
        "# Generate loan eligibility based on some conditions\n",
        "# Example condition: high credit score, income, and no existing loans might lead to higher eligibility\n",
        "loan_eligibility = ((credit_score > 650) & (income > 50000) & (age >= 25) & (age <= 55) & (existing_loans == 0)).astype(int)\n",
        "\n",
        "# Create a DataFrame\n",
        "data = {\n",
        "    'age': age,\n",
        "    'income': income,\n",
        "    'credit_score': credit_score,\n",
        "    'loan_amount': loan_amount,\n",
        "    'existing_loans': existing_loans,\n",
        "    'collateral': collateral,\n",
        "    'loan_eligibility': loan_eligibility\n",
        "}\n",
        "\n",
        "df = pd.DataFrame(data)\n",
        "df.to_csv('loan_data.csv', index=False)\n",
        "\n",
        "print(\"CSV file 'loan_data!.csv' with 1000 entries created successfully.\")\n"
      ],
      "metadata": {
        "id": "JnkfWxGW4AqK"
      },
      "execution_count": null,
      "outputs": []
    },
    {
      "cell_type": "code",
      "execution_count": null,
      "metadata": {
        "id": "gAJbjSyJ0zqM"
      },
      "outputs": [],
      "source": [
        "import pandas as pd\n",
        "from sklearn.model_selection import train_test_split\n",
        "from sklearn.preprocessing import StandardScaler\n",
        "import tensorflow as tf\n",
        "from tensorflow.keras.models import Sequential\n",
        "from tensorflow.keras.layers import Dense\n",
        "\n",
        "\n",
        "\n",
        "df = pd.DataFrame(data)\n",
        "df.to_csv('loan_data_1000.csv', index=False)\n",
        "\n",
        "# Step 2: Load and Preprocess the Data\n",
        "data = pd.read_csv('loan_data_1000.csv')\n",
        "X = data.drop('loan_eligibility', axis=1)\n",
        "y = data['loan_eligibility']\n",
        "\n",
        "model = Sequential([\n",
        "    Dense(64, input_dim=X_train.shape[1], activation='relu'),\n",
        "    Dense(32, activation='relu'),\n",
        "    Dense(16, activation='relu'),\n",
        "    Dense(8, activation='relu'),\n",
        "    Dense(1, activation='sigmoid')\n",
        "])\n",
        "\n",
        "model.compile(optimizer='adam', loss='binary_crossentropy', metrics=['accuracy'])\n",
        "\n",
        "# Train the model\n",
        "history = model.fit(X_train, y_train, epochs=50, batch_size=32, validation_split=0.2)\n",
        "\n",
        "# Evaluate the model\n",
        "loss, accuracy = model.evaluate(X_test, y_test)\n",
        "print(f'Test Accuracy: {accuracy:.4f}')\n",
        "\n",
        "# Make predictions (example with one input)\n",
        "def predict_loan_eligibility(age, income, credit_score, loan_amount, existing_loans, collateral):\n",
        "    input_data = pd.DataFrame({\n",
        "        'age': [age],\n",
        "        'income': [income],\n",
        "        'credit_score': [credit_score],\n",
        "        'loan_amount': [loan_amount],\n",
        "        'existing_loans': [existing_loans],\n",
        "        'collateral': [collateral]\n",
        "    })\n",
        "    input_data = scaler.transform(input_data)\n",
        "    prediction = model.predict(input_data)\n",
        "    eligibility = (prediction > 0.5).astype(int)[0][0]\n",
        "    return \"Eligible\" if eligibility == 1 else \"Not Eligible\"\n",
        "\n",
        "# Example of how to use the prediction function\n",
        "age = int(input(\"Enter your age: \"))\n",
        "income = float(input(\"Enter your annual income: \"))\n",
        "credit_score = int(input(\"Enter your credit score: \"))\n",
        "loan_amount = float(input(\"Enter the loan amount you are applying for: \"))\n",
        "existing_loans = int(input(\"Do you have existing loans? (Enter 0 for No, 1 for Yes): \"))\n",
        "collateral = int(input(\"Do you have collateral? (Enter 0 for No, 1 for Yes): \"))\n",
        "\n",
        "eligibility = predict_loan_eligibility(age, income, credit_score, loan_amount, existing_loans, collateral)\n",
        "print(f'You are {eligibility} for the loan.')\n"
      ]
    },
    {
      "cell_type": "code",
      "source": [
        "'''import pandas as pd\n",
        "\n",
        "# Define the dataset\n",
        "data = {\n",
        "    'age': [25, 30, 35, 40, 45, 22, 28, 33, 38, 43, 27, 31, 36, 41, 46, 23, 29, 34, 39, 44, 26, 32, 37, 42, 47, 24],\n",
        "    'income': [50000, 60000, 80000, 90000, 100000, 40000, 52000, 58000, 70000, 72000, 48000, 55000, 85000, 92000, 105000, 42000, 51000, 59000, 71000, 74000, 49000, 56000, 87000, 94000, 107000, 43000],\n",
        "    'credit_score': [700, 650, 700, 750, 800, 600, 680, 620, 710, 690, 630, 660, 740, 760, 820, 610, 670, 690, 720, 700, 640, 680, 730, 750, 810, 620],\n",
        "    'loan_amount': [20000, 15000, 30000, 35000, 40000, 10000, 25000, 20000, 22000, 24000, 12000, 18000, 32000, 34000, 42000, 10500, 23000, 19000, 21000, 25000, 13000, 17000, 33000, 36000, 43000, 11000],\n",
        "    'loan_eligibility': [1, 1, 1, 1, 1, 0, 1, 0, 1, 0, 0, 1, 1, 1, 1, 0, 1, 1, 1, 1, 0, 1, 1, 1, 1, 0]\n",
        "}\n",
        "\n",
        "# Create a DataFrame\n",
        "df = pd.DataFrame(data)\n",
        "\n",
        "# Save the DataFrame to a CSV file\n",
        "df.to_csv('loan_data.csv', index=False)\n",
        "\n",
        "print(\"CSV file 'loan_data.csv' created successfully.\") '''\n"
      ],
      "metadata": {
        "id": "1lwDEnrv109k"
      },
      "execution_count": null,
      "outputs": []
    }
  ]
}